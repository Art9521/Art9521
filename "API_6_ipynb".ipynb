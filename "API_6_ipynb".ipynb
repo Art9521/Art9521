{
  "nbformat": 4,
  "nbformat_minor": 0,
  "metadata": {
    "colab": {
      "provenance": [],
      "include_colab_link": true
    },
    "kernelspec": {
      "name": "python3",
      "display_name": "Python 3"
    },
    "language_info": {
      "name": "python"
    }
  },
  "cells": [
    {
      "cell_type": "markdown",
      "metadata": {
        "id": "view-in-github",
        "colab_type": "text"
      },
      "source": [
        "<a href=\"https://colab.research.google.com/github/Art9521/Art9521/blob/main/%22API_6_ipynb%22.ipynb\" target=\"_parent\"><img src=\"https://colab.research.google.com/assets/colab-badge.svg\" alt=\"Open In Colab\"/></a>"
      ]
    },
    {
      "cell_type": "markdown",
      "source": [
        "# Задание 1."
      ],
      "metadata": {
        "id": "fS6yNsI8DpK2"
      }
    },
    {
      "cell_type": "markdown",
      "source": [
        "**Работа с API News API**\n",
        "1. Получить и вывести список последних 10-ти новостей, выпущенных информационным агентством BBC;\n",
        "2. Получить и вывести список информационных агентств, публикующих новости на испанском языке;\n",
        "3. Получить и вывести список 5-ти последних новостей связанных с ИИ."
      ],
      "metadata": {
        "id": "MIQktPzPDrqa"
      }
    },
    {
      "cell_type": "code",
      "source": [
        "import requests\n",
        "\n",
        "# Ваш ключ API с сайта News API\n",
        "API_KEY = 'b687aa67fbb14d3f9b1e8dff9cc94956'\n",
        "\n",
        "# Базовый URL для News API\n",
        "BASE_URL = 'https://newsapi.org/v2/'\n",
        "\n",
        "# Функция для получения и вывода списка последних 10-ти новостей от BBC\n",
        "def get_latest_bbc_news():\n",
        "    url = f'{BASE_URL}everything'\n",
        "    params = {\n",
        "        'q': 'bbc',\n",
        "        'sortBy': 'publishedAt',\n",
        "        'pageSize': 10,\n",
        "        'apiKey': API_KEY\n",
        "    }\n",
        "    response = requests.get(url, params=params)\n",
        "    news = response.json()\n",
        "    for article in news['articles']:\n",
        "        print(f\"Title: {article['title']}\")\n",
        "        print(f\"Published At: {article['publishedAt']}\")\n",
        "        print(f\"Source: {article['source']['name']}\")\n",
        "        print(f\"URL: {article['url']}\\n\")\n",
        "\n",
        "# Функция для получения и вывода списка информационных агентств, публикующих новости на испанском языке\n",
        "def get_spanish_sources():\n",
        "    url = f'{BASE_URL}sources'\n",
        "    params = {\n",
        "        'language': 'es',\n",
        "        'apiKey': API_KEY\n",
        "    }\n",
        "    response = requests.get(url, params=params)\n",
        "    sources = response.json()\n",
        "    for source in sources['sources']:\n",
        "        print(f\"Name: {source['name']}\")\n",
        "        print(f\"Description: {source['description']}\")\n",
        "        print(f\"URL: {source['url']}\\n\")\n",
        "\n",
        "# Функция для получения и вывода списка 5-ти последних новостей, связанных с ИИ\n",
        "def get_latest_ai_news():\n",
        "    url = f'{BASE_URL}everything'\n",
        "    params = {\n",
        "        'q': 'artificial intelligence OR AI',\n",
        "        'sortBy': 'publishedAt',\n",
        "        'pageSize': 5,\n",
        "        'apiKey': API_KEY\n",
        "    }\n",
        "    response = requests.get(url, params=params)\n",
        "    news = response.json()\n",
        "    for article in news['articles']:\n",
        "        print(f\"Title: {article['title']}\")\n",
        "        print(f\"Published At: {article['publishedAt']}\")\n",
        "        print(f\"Source: {article['source']['name']}\")\n",
        "        print(f\"URL: {article['url']}\\n\")\n",
        "\n",
        "# Вызов функций\n",
        "print(\"Последние 10 новостей от BBC:\")\n",
        "get_latest_bbc_news()\n",
        "\n",
        "print(\"\\nИнформационные агентства, публикующие новости на испанском языке:\")\n",
        "get_spanish_sources()\n",
        "\n",
        "print(\"\\nПоследние 5 новостей, связанных с ИИ:\")\n",
        "get_latest_ai_news()\n"
      ],
      "metadata": {
        "id": "mCaX2m0ny4pa",
        "colab": {
          "base_uri": "https://localhost:8080/"
        },
        "outputId": "50c17776-8e02-4581-f52c-c91f83ddc9f6"
      },
      "execution_count": 1,
      "outputs": [
        {
          "output_type": "stream",
          "name": "stdout",
          "text": [
            "Последние 10 новостей от BBC:\n",
            "Title: “Une ombre sur l’été grec” : plusieurs touristes victimes de la canicule\n",
            "Published At: 2024-06-20T12:35:05Z\n",
            "Source: Courrier International\n",
            "URL: https://www.courrierinternational.com/article/environnement-une-ombre-sur-l-ete-grec-plusieurs-touristes-victimes-de-la-canicule\n",
            "\n",
            "Title: Stonehenge not visibly damaged by protest paint. It's clean and ready to rock the solstice.\n",
            "Published At: 2024-06-20T12:34:01Z\n",
            "Source: Minneapolis Star Tribune\n",
            "URL: https://www.startribune.com/stonehenge-not-visibly-damaged-by-protest-paint-its-clean-and-ready-to-rock-the-solstice/600374807/\n",
            "\n",
            "Title: [Removed]\n",
            "Published At: 1970-01-01T00:00:00Z\n",
            "Source: [Removed]\n",
            "URL: https://removed.com\n",
            "\n",
            "Title: Han föll från scenen – missar föreställningar\n",
            "Published At: 2024-06-20T12:32:07Z\n",
            "Source: Aftonbladet.se\n",
            "URL: https://www.aftonbladet.se/nojesbladet/a/AvLJan/foll-fran-scenen-missar-forestallningar\n",
            "\n",
            "Title: Stonehenge pulverizado com tinta laranja por ativistas climáticos\n",
            "Published At: 2024-06-20T12:30:34Z\n",
            "Source: Observador.pt\n",
            "URL: https://observador.pt/2024/06/20/stonehenge-pulverizado-com-tinta-laranja-por-ativistas-climaticos/\n",
            "\n",
            "Title: [Removed]\n",
            "Published At: 1970-01-01T00:00:00Z\n",
            "Source: [Removed]\n",
            "URL: https://removed.com\n",
            "\n",
            "Title: Main parties battle over first-time buyer help\n",
            "Published At: 2024-06-20T12:26:03Z\n",
            "Source: BBC News\n",
            "URL: https://www.bbc.com/news/articles/c3ggenv37eqo\n",
            "\n",
            "Title: A mesterséges intelligencia térnyerése óta durván tízszeresére nőttek az utazós átverések\n",
            "Published At: 2024-06-20T12:26:00Z\n",
            "Source: Portfolio.hu\n",
            "URL: https://www.portfolio.hu/uzlet/20240620/a-mesterseges-intelligencia-ternyerese-ota-durvan-tizszeresere-nottek-az-utazos-atveresek-693719\n",
            "\n",
            "Title: \"Esperamos dos meses por el cuerpo de Jesús y nos dieron un saco de carne y hueso\": la desesperación de las familias ante el colapso de la morgue de Guayaquil\n",
            "Published At: 2024-06-20T12:24:30Z\n",
            "Source: BBC News\n",
            "URL: https://www.bbc.com/mundo/articles/c2qqe50x4nlo\n",
            "\n",
            "Title: The Institute blir tv-serie\n",
            "Published At: 2024-06-20T12:20:00Z\n",
            "Source: Feber.se\n",
            "URL: https://feber.se/film/the-institute-blir-tv-serie/468850/\n",
            "\n",
            "\n",
            "Информационные агентства, публикующие новости на испанском языке:\n",
            "Name: CNN Spanish\n",
            "Description: Lee las últimas noticias e información sobre Latinoamérica, Estados Unidos, mundo, entretenimiento, política, salud, tecnología y deportes en CNNEspañol.com.\n",
            "URL: http://cnnespanol.cnn.com/\n",
            "\n",
            "Name: El Mundo\n",
            "Description: Noticias, actualidad, álbumes, debates, sociedad, servicios, entretenimiento y última hora en España y el mundo.\n",
            "URL: http://www.elmundo.es\n",
            "\n",
            "Name: Google News (Argentina)\n",
            "Description: Completa cobertura actualizada de noticias agregadas a partir de fuentes de todo el mundo por Google Noticias.\n",
            "URL: https://news.google.com\n",
            "\n",
            "Name: Infobae\n",
            "Description: Noticias de Argentina y del mundo en tiempo real. Información, videos y fotos sobre los hechos más relevantes y sus protagonistas. Léelo antes en infobae.\n",
            "URL: http://www.infobae.com/?noredirect\n",
            "\n",
            "Name: La Gaceta\n",
            "Description: El diario de Tucumán, noticias 24 horas online - San Miguel de Tucumán - Argentina - Ultimo momento - Ultimas noticias.\n",
            "URL: http://www.lagaceta.com.ar\n",
            "\n",
            "Name: La Nacion\n",
            "Description: Información confiable en Internet. Noticias de Argentina y del mundo - ¡Informate ya!\n",
            "URL: http://www.lanacion.com.ar\n",
            "\n",
            "Name: Marca\n",
            "Description: La mejor información deportiva en castellano actualizada minuto a minuto en noticias, vídeos, fotos, retransmisiones y resultados en directo.\n",
            "URL: http://www.marca.com\n",
            "\n",
            "\n",
            "Последние 5 новостей, связанных с ИИ:\n",
            "Title: Ilya Sutskever left OpenAI after mutinying against Sam Altman—now he’s launching his own startup for safe AI\n",
            "Published At: 2024-06-20T12:36:23Z\n",
            "Source: Fortune\n",
            "URL: https://fortune.com/2024/06/20/openai-ilya-sutskever-sam-altman-safe-superintelligence/\n",
            "\n",
            "Title: Las razones por las que Apple Intelligence funciona solo en el iPhone 15 Pro y Pro Max\n",
            "Published At: 2024-06-20T12:34:17Z\n",
            "Source: La Nacion\n",
            "URL: https://www.lanacion.com.ar/tecnologia/las-razones-por-las-que-apple-intelligence-funciona-solo-en-el-iphone-15-pro-y-pro-max-nid20062024/\n",
            "\n",
            "Title: Instagram is reportedly recommending sexual Reels to teens as young as 13\n",
            "Published At: 2024-06-20T12:33:52Z\n",
            "Source: Slashdot.org\n",
            "URL: https://slashdot.org/firehose.pl?op=view&amp;id=174212747\n",
            "\n",
            "Title: Quisitive Recognized as Board International’s Solution Partner of the Year for Second Year in a Row\n",
            "Published At: 2024-06-20T12:33:17Z\n",
            "Source: Financial Post\n",
            "URL: https://financialpost.com/globe-newswire/quisitive-recognized-as-board-internationals-solution-partner-of-the-year-for-second-year-in-a-row\n",
            "\n",
            "Title: Criptomoedas de IA superam Bitcoin e sobem até 25% empurradas por Nvidia\n",
            "Published At: 2024-06-20T12:32:41Z\n",
            "Source: InfoMoney\n",
            "URL: https://www.infomoney.com.br/onde-investir/bitcoin-hoje-tem-leve-alta-e-criptomoedas-de-ia-sobem-ate-25-empurradas-por-nvidia/\n",
            "\n"
          ]
        }
      ]
    },
    {
      "cell_type": "markdown",
      "source": [
        "# Задание 2."
      ],
      "metadata": {
        "id": "GJXBIPpjR6sl"
      }
    },
    {
      "cell_type": "markdown",
      "source": [
        "**Работа с API OpenWeatherMap**\n",
        "1. Получить текущую погоду в вашем городе и вывести общее состояние погоды, скорость ветра, относительную влажность воздуха, температуру и температуру по ощущениям;\n",
        "2. Получить погоду в вашем городе на следующий день и вывести те же значения, что и в предыдущем пункте;\n",
        "3. Получить текущий индекс качества воздуха в Лондоне и вывести его."
      ],
      "metadata": {
        "id": "UBks6P1DR8s9"
      }
    },
    {
      "cell_type": "code",
      "source": [
        "import requests\n",
        "from datetime import datetime, timedelta\n",
        "\n",
        "# Ваш ключ API с сайта OpenWeatherMap\n",
        "API_KEY = 'a82c5f0113d8c5906632c172e204891b'\n",
        "\n",
        "# Базовый URL для OpenWeatherMap API\n",
        "BASE_URL = 'http://api.openweathermap.org/data/2.5/'\n",
        "\n",
        "# Функция для получения текущей погоды в Коряжме\n",
        "def get_current_weather(city):\n",
        "    url = f'{BASE_URL}weather'\n",
        "    params = {\n",
        "        'q': city,\n",
        "        'appid': API_KEY,\n",
        "        'units': 'metric',\n",
        "        'lang': 'ru'\n",
        "    }\n",
        "    response = requests.get(url, params=params)\n",
        "\n",
        "    if response.status_code == 200:\n",
        "        weather = response.json()\n",
        "        print(f\"Погода в {city}:\")\n",
        "        print(f\"Общее состояние: {weather['weather'][0]['description']}\")\n",
        "        print(f\"Скорость ветра: {weather['wind']['speed']} м/с\")\n",
        "        print(f\"Относительная влажность: {weather['main']['humidity']}%\")\n",
        "        print(f\"Температура: {weather['main']['temp']}°C\")\n",
        "        print(f\"Температура по ощущениям: {weather['main']['feels_like']}°C\\n\")\n",
        "    else:\n",
        "        print(f\"Не удалось получить текущую погоду для {city}. Код ошибки: {response.status_code}\")\n",
        "        print(response.text)\n",
        "\n",
        "# Функция для получения погоды в Коряжме на следующий день\n",
        "def get_next_day_weather(city):\n",
        "    url = f'{BASE_URL}forecast'\n",
        "    params = {\n",
        "        'q': city,\n",
        "        'appid': API_KEY,\n",
        "        'units': 'metric',\n",
        "        'lang': 'ru'\n",
        "    }\n",
        "    response = requests.get(url, params=params)\n",
        "\n",
        "    if response.status_code == 200:\n",
        "        forecast = response.json()\n",
        "        # Получаем дату следующего дня\n",
        "        next_day = datetime.now() + timedelta(days=1)\n",
        "        next_day_str = next_day.strftime('%Y-%m-%d')\n",
        "        print(f\"Погода в {city} на следующий день ({next_day_str}):\")\n",
        "        for entry in forecast['list']:\n",
        "            if next_day_str in entry['dt_txt']:\n",
        "                print(f\"Дата и время: {entry['dt_txt']}\")\n",
        "                print(f\"Общее состояние: {entry['weather'][0]['description']}\")\n",
        "                print(f\"Скорость ветра: {entry['wind']['speed']} м/с\")\n",
        "                print(f\"Относительная влажность: {entry['main']['humidity']}%\")\n",
        "                print(f\"Температура: {entry['main']['temp']}°C\")\n",
        "                print(f\"Температура по ощущениям: {entry['main']['feels_like']}°C\\n\")\n",
        "                break\n",
        "    else:\n",
        "        print(f\"Не удалось получить прогноз погоды для {city}. Код ошибки: {response.status_code}\")\n",
        "        print(response.text)\n",
        "\n",
        "# Функция для получения текущего индекса качества воздуха в Лондоне\n",
        "def get_air_quality(city):\n",
        "    url = f'{BASE_URL}air_pollution'\n",
        "    # Получаем координаты города\n",
        "    city_url = f'{BASE_URL}weather'\n",
        "    city_params = {\n",
        "        'q': city,\n",
        "        'appid': API_KEY\n",
        "    }\n",
        "    city_response = requests.get(city_url, city_params)\n",
        "\n",
        "    if city_response.status_code == 200:\n",
        "        city_data = city_response.json()\n",
        "        lat = city_data['coord']['lat']\n",
        "        lon = city_data['coord']['lon']\n",
        "        # Получаем индекс качества воздуха по координатам\n",
        "        params = {\n",
        "            'lat': lat,\n",
        "            'lon': lon,\n",
        "            'appid': API_KEY\n",
        "        }\n",
        "        response = requests.get(url, params=params)\n",
        "\n",
        "        if response.status_code == 200:\n",
        "            air_quality = response.json()\n",
        "            aqi = air_quality['list'][0]['main']['aqi']\n",
        "            print(f\"Текущий индекс качества воздуха в {city}: {aqi}\")\n",
        "        else:\n",
        "            print(f\"Не удалось получить индекс качества воздуха для {city}. Код ошибки: {response.status_code}\")\n",
        "            print(response.text)\n",
        "    else:\n",
        "        print(f\"Не удалось получить координаты для {city}. Код ошибки: {city_response.status_code}\")\n",
        "        print(city_response.text)\n",
        "\n",
        "# Вызов функций\n",
        "get_current_weather('Коряжма')\n",
        "get_next_day_weather('Коряжма')\n",
        "get_air_quality('Лондон')\n"
      ],
      "metadata": {
        "colab": {
          "base_uri": "https://localhost:8080/"
        },
        "id": "iKi01R2W03hX",
        "outputId": "5c6e8cdf-a397-4197-ba32-14696ca1a546"
      },
      "execution_count": 5,
      "outputs": [
        {
          "output_type": "stream",
          "name": "stdout",
          "text": [
            "Погода в Коряжма:\n",
            "Общее состояние: небольшой дождь\n",
            "Скорость ветра: 4.71 м/с\n",
            "Относительная влажность: 79%\n",
            "Температура: 17.13°C\n",
            "Температура по ощущениям: 16.96°C\n",
            "\n",
            "Погода в Коряжма на следующий день (2024-06-22):\n",
            "Дата и время: 2024-06-22 00:00:00\n",
            "Общее состояние: ясно\n",
            "Скорость ветра: 2.63 м/с\n",
            "Относительная влажность: 97%\n",
            "Температура: 9.12°C\n",
            "Температура по ощущениям: 7.69°C\n",
            "\n",
            "Текущий индекс качества воздуха в Лондон: 3\n"
          ]
        }
      ]
    },
    {
      "cell_type": "markdown",
      "source": [
        "# Задание 3."
      ],
      "metadata": {
        "id": "qYdLVAUOThro"
      }
    },
    {
      "cell_type": "markdown",
      "source": [
        "**Работа с API Wikipedia**\n",
        "1. Получить данные о странице про язык программирования Python и вывести заголовок и первые 60 символов из краткого содержания статьи;\n",
        "2. Вывести первые 40 символов из содержимого секции истории языка;\n",
        "3. Вывести заголовок и первые 140 символов из краткого содержания статьи на одном из языков на которых доступна статья."
      ],
      "metadata": {
        "id": "dXP9_DWhTmi5"
      }
    },
    {
      "cell_type": "code",
      "source": [
        "import requests\n",
        "from bs4 import BeautifulSoup\n",
        "\n",
        "# Базовый URL для Wikipedia API\n",
        "BASE_URL = 'https://en.wikipedia.org/w/api.php'\n",
        "\n",
        "# Функция для получения данных о странице про язык программирования Python\n",
        "def get_python_article():\n",
        "    params = {\n",
        "        'action': 'query',\n",
        "        'format': 'json',\n",
        "        'titles': 'Python (programming language)',\n",
        "        'prop': 'extracts',\n",
        "        'exintro': True,\n",
        "        'explaintext': True\n",
        "    }\n",
        "    response = requests.get(BASE_URL, params=params)\n",
        "    data = response.json()\n",
        "    page = next(iter(data['query']['pages'].values()))\n",
        "\n",
        "    if 'extract' in page:\n",
        "        title = page['title']\n",
        "        extract = page['extract'][:60]\n",
        "        print(f\"Заголовок: {title}\")\n",
        "        print(f\"Краткое содержание: {extract}\\n\")\n",
        "    else:\n",
        "        print(\"Не удалось получить краткое содержание статьи.\")\n",
        "\n",
        "# Функция для получения первых 40 символов из содержимого секции истории языка\n",
        "def get_python_history():\n",
        "    params = {\n",
        "        'action': 'parse',\n",
        "        'format': 'json',\n",
        "        'page': 'Python (programming language)',\n",
        "        'prop': 'sections'\n",
        "    }\n",
        "    response = requests.get(BASE_URL, params=params)\n",
        "    data = response.json()\n",
        "\n",
        "    sections = data['parse']['sections']\n",
        "    history_index = next((sec for sec in sections if 'History' in sec['line']), None)\n",
        "\n",
        "    if history_index:\n",
        "        params = {\n",
        "            'action': 'parse',\n",
        "            'format': 'json',\n",
        "            'page': 'Python (programming language)',\n",
        "            'prop': 'text',\n",
        "            'section': history_index['index']\n",
        "        }\n",
        "        response = requests.get(BASE_URL, params=params)\n",
        "        data = response.json()\n",
        "\n",
        "        section_text = data['parse']['text']['*']\n",
        "        soup = BeautifulSoup(section_text, 'html.parser')\n",
        "        text = soup.get_text()\n",
        "        print(f\"Первые 40 символов из истории языка: {text[:40]}\\n\")\n",
        "    else:\n",
        "        print(\"Секция 'History' не найдена.\")\n",
        "\n",
        "# Функция для получения заголовка и первых 140 символов из краткого содержания статьи на одном из языков\n",
        "def get_python_article_in_other_language(lang_code):\n",
        "    # Сначала получаем interlanguage links\n",
        "    params = {\n",
        "        'action': 'query',\n",
        "        'format': 'json',\n",
        "        'titles': 'Python (programming language)',\n",
        "        'prop': 'langlinks',\n",
        "        'lllimit': 'max'\n",
        "    }\n",
        "    response = requests.get(BASE_URL, params=params)\n",
        "    data = response.json()\n",
        "    page = next(iter(data['query']['pages'].values()))\n",
        "\n",
        "    langlinks = page.get('langlinks', [])\n",
        "    title_in_other_lang = None\n",
        "    for link in langlinks:\n",
        "        if link['lang'] == lang_code:\n",
        "            title_in_other_lang = link['*']\n",
        "            break\n",
        "\n",
        "    if title_in_other_lang:\n",
        "        url = f'https://{lang_code}.wikipedia.org/w/api.php'\n",
        "        params = {\n",
        "            'action': 'query',\n",
        "            'format': 'json',\n",
        "            'titles': title_in_other_lang,\n",
        "            'prop': 'extracts',\n",
        "            'exintro': True,\n",
        "            'explaintext': True\n",
        "        }\n",
        "        response = requests.get(url, params=params)\n",
        "        data = response.json()\n",
        "        page = next(iter(data['query']['pages'].values()))\n",
        "\n",
        "        if 'extract' in page:\n",
        "            title = page['title']\n",
        "            extract = page['extract'][:140]\n",
        "            print(f\"Заголовок ({lang_code}): {title}\")\n",
        "            print(f\"Краткое содержание ({lang_code}): {extract}\\n\")\n",
        "        else:\n",
        "            print(f\"Не удалось получить краткое содержание статьи на языке {lang_code}.\")\n",
        "    else:\n",
        "        print(f\"Не удалось найти статью на языке {lang_code}.\")\n",
        "\n",
        "# Вызов функций\n",
        "get_python_article()\n",
        "get_python_history()\n",
        "get_python_article_in_other_language('es')  # 'es' для испанского языка, можно изменить на любой другой\n",
        "\n"
      ],
      "metadata": {
        "colab": {
          "base_uri": "https://localhost:8080/"
        },
        "id": "D94ijU-U911k",
        "outputId": "f8762305-adb9-4917-b55a-79005e23bd2b"
      },
      "execution_count": 9,
      "outputs": [
        {
          "output_type": "stream",
          "name": "stdout",
          "text": [
            "Заголовок: Python (programming language)\n",
            "Краткое содержание: Python is a high-level, general-purpose programming language\n",
            "\n",
            "Первые 40 символов из истории языка: History[edit]\n",
            "The designer of Python, Gu\n",
            "\n",
            "Заголовок (es): Python\n",
            "Краткое содержание (es): Python es un lenguaje de alto nivel de programación interpretado cuya filosofía hace hincapié en la legibilidad de su código. Se trata de un\n",
            "\n"
          ]
        }
      ]
    },
    {
      "cell_type": "markdown",
      "source": [
        "# Задание 4."
      ],
      "metadata": {
        "id": "95LjDmDPWU6e"
      }
    },
    {
      "cell_type": "markdown",
      "source": [
        "**Работа с API TheTVDB.com.**\n",
        "1. На странице Discover - Awards получите перечень названий всех премий, которые учитываются в базе;\n",
        "2. На странице Discover - Official Lists получите перечень названий 10-ти последних публикаций;\n",
        "3. На странице Discover - Companies получите перечень из 15-ти названий компаний, связанных с TheTVDB.com."
      ],
      "metadata": {
        "id": "Y3tz6SouWYRQ"
      }
    },
    {
      "cell_type": "code",
      "source": [
        "import requests\n",
        "\n",
        "# Ваш API ключ\n",
        "API_KEY = ''\n",
        "# Ваш идентификатор клиента и секрет клиента (если требуется)\n",
        "CLIENT_ID = 'your_client_id'\n",
        "CLIENT_SECRET = 'your_client_secret'\n",
        "# Имя пользователя и пароль (если требуется)\n",
        "USERNAME = ''\n",
        "USER_KEY = ''\n",
        "\n",
        "# Базовый URL для TheTVDB API\n",
        "BASE_URL = 'https://api.thetvdb.com'\n",
        "\n",
        "# Функция для получения токена\n",
        "def get_token():\n",
        "    url = f'{BASE_URL}/login'\n",
        "    payload = {\n",
        "        'apikey': API_KEY,\n",
        "        'userkey': USER_KEY,\n",
        "        'username': USERNAME\n",
        "    }\n",
        "    response = requests.post(url, json=payload)\n",
        "    if response.status_code == 200:\n",
        "        token = response.json()['token']\n",
        "        return token\n",
        "    else:\n",
        "        print(f\"Ошибка получения токена: {response.status_code}\")\n",
        "        print(response.json())\n",
        "        return None\n",
        "\n",
        "# Получаем токен\n",
        "token = get_token()\n",
        "if token:\n",
        "    headers = {\n",
        "        'Authorization': f'Bearer {token}',\n",
        "        'Content-Type': 'application/json'\n",
        "    }\n",
        "\n",
        "    # Функция для получения названий всех премий (Awards)\n",
        "    def get_awards():\n",
        "        url = f'{BASE_URL}/awards'\n",
        "        response = requests.get(url, headers=headers)\n",
        "\n",
        "        if response.status_code == 200:\n",
        "            data = response.json()\n",
        "            awards = data['data']\n",
        "            print(\"Перечень названий всех премий:\")\n",
        "            for award in awards:\n",
        "                print(award['name'])\n",
        "        else:\n",
        "            print(f\"Ошибка получения данных: {response.status_code}\")\n",
        "            print(response.json())\n",
        "\n",
        "    # Функция для получения названий 10-ти последних публикаций (Official Lists)\n",
        "    def get_official_lists():\n",
        "        url = f'{BASE_URL}/lists'\n",
        "        response = requests.get(url, headers=headers)\n",
        "\n",
        "        if response.status_code == 200:\n",
        "            data = response.json()\n",
        "            lists = data['data'][:10]\n",
        "            print(\"\\nПеречень названий 10-ти последних публикаций:\")\n",
        "            for official_list in lists:\n",
        "                print(official_list['name'])\n",
        "        else:\n",
        "            print(f\"Ошибка получения данных: {response.status_code}\")\n",
        "            print(response.json())\n",
        "\n",
        "    # Функция для получения названий 15-ти компаний (Companies)\n",
        "    def get_companies():\n",
        "        url = f'{BASE_URL}/companies'\n",
        "        response = requests.get(url, headers=headers)\n",
        "\n",
        "        if response.status_code == 200:\n",
        "            data = response.json()\n",
        "            companies = data['data'][:15]\n",
        "            print(\"\\nПеречень названий 15-ти компаний:\")\n",
        "            for company in companies:\n",
        "                print(company['name'])\n",
        "        else:\n",
        "            print(f\"Ошибка получения данных: {response.status_code}\")\n",
        "            print(response.json())\n",
        "\n",
        "    # Вызов функций\n",
        "    get_awards()\n",
        "    get_official_lists()\n",
        "    get_companies()\n"
      ],
      "metadata": {
        "colab": {
          "base_uri": "https://localhost:8080/"
        },
        "id": "vZX3kok7JkhA",
        "outputId": "b863e197-592f-4149-f212-33f9bc5c5af5"
      },
      "execution_count": 13,
      "outputs": [
        {
          "output_type": "stream",
          "name": "stdout",
          "text": [
            "Ошибка получения токена: 401\n",
            "{'Error': 'API Key Required'}\n"
          ]
        }
      ]
    },
    {
      "cell_type": "markdown",
      "source": [
        "# Задание 5."
      ],
      "metadata": {
        "id": "u3LTqn3TYrzn"
      }
    },
    {
      "cell_type": "markdown",
      "source": [
        "**Работа с API geopy**\n",
        "\n",
        "Используя геокодер для OpenStreetMap Nominatim, задать адрес любого здания в вашем городе. Далее:\n",
        "1. Вывести полную информацию о введённом адресе полученную из API;\n",
        "2. На новой строке вывести ширину и долготу для заданного адреса;\n",
        "3. На новой строке отобразить необработанные данные, полученные из API."
      ],
      "metadata": {
        "id": "DbkhBYpNYt97"
      }
    },
    {
      "cell_type": "code",
      "source": [
        "!pip install requests"
      ],
      "metadata": {
        "colab": {
          "base_uri": "https://localhost:8080/"
        },
        "id": "wDtb2Y9ZM45K",
        "outputId": "f825c2e4-ae84-439d-b959-17040669ff9e"
      },
      "execution_count": 16,
      "outputs": [
        {
          "output_type": "stream",
          "name": "stdout",
          "text": [
            "Requirement already satisfied: requests in /usr/local/lib/python3.10/dist-packages (2.31.0)\n",
            "Requirement already satisfied: charset-normalizer<4,>=2 in /usr/local/lib/python3.10/dist-packages (from requests) (3.3.2)\n",
            "Requirement already satisfied: idna<4,>=2.5 in /usr/local/lib/python3.10/dist-packages (from requests) (3.7)\n",
            "Requirement already satisfied: urllib3<3,>=1.21.1 in /usr/local/lib/python3.10/dist-packages (from requests) (2.0.7)\n",
            "Requirement already satisfied: certifi>=2017.4.17 in /usr/local/lib/python3.10/dist-packages (from requests) (2024.6.2)\n"
          ]
        }
      ]
    },
    {
      "cell_type": "code",
      "source": [
        "import requests\n",
        "\n",
        "# Адрес здания в городе Коряжма\n",
        "address = 'улица Дыбцына, 6, Коряжма, Архангельская область, Россия'\n",
        "\n",
        "# URL для API Nominatim\n",
        "BASE_URL = 'https://nominatim.openstreetmap.org/search'\n",
        "\n",
        "# Параметры для запроса\n",
        "params = {\n",
        "    'q': address,\n",
        "    'format': 'json',\n",
        "    'addressdetails': 1,\n",
        "    'limit': 1,\n",
        "    \"email\": \"your_email@example.com\"  # Add your email address for Nominatim API\n",
        "}\n",
        "\n",
        "# Выполняем запрос к API\n",
        "response = requests.get(BASE_URL, params=params)\n",
        "\n",
        "# Check the HTTP status code before attempting to decode JSON\n",
        "if response.status_code == 200:\n",
        "    data = response.json()\n",
        "\n",
        "    if data:\n",
        "        # Выводим полную информацию о введённом адресе\n",
        "        full_info = data[0]\n",
        "        print(\"Полная информация о введённом адресе:\")\n",
        "        print(full_info)\n",
        "\n",
        "        # Выводим широту и долготу для заданного адреса\n",
        "        latitude = full_info['lat']\n",
        "        longitude = full_info['lon']\n",
        "        print(\"\\nШирота и долгота для заданного адреса:\")\n",
        "        print(f\"Широта: {latitude}\")\n",
        "        print(f\"Долгота: {longitude}\")\n",
        "\n",
        "    else:\n",
        "        print(\"Адрес не найден.\")\n",
        "\n",
        "else:\n",
        "    print(f\"Ошибка запроса: {response.status_code}\")"
      ],
      "metadata": {
        "colab": {
          "base_uri": "https://localhost:8080/"
        },
        "id": "H36jloVwMwPI",
        "outputId": "8eaf5c96-90fa-43cc-cace-861395ae7b55"
      },
      "execution_count": 19,
      "outputs": [
        {
          "output_type": "stream",
          "name": "stdout",
          "text": [
            "Полная информация о введённом адресе:\n",
            "{'place_id': 207826432, 'licence': 'Data © OpenStreetMap contributors, ODbL 1.0. http://osm.org/copyright', 'osm_type': 'way', 'osm_id': 46482039, 'lat': '61.3146124', 'lon': '47.156808748527084', 'class': 'building', 'type': 'retail', 'place_rank': 30, 'importance': 9.99999999995449e-06, 'addresstype': 'building', 'name': '', 'display_name': '6, улица Дыбцына, Коряжма, городской округ Коряжма, Архангельская область, Северо-Западный федеральный округ, 165650, Россия', 'address': {'house_number': '6', 'road': 'улица Дыбцына', 'town': 'Коряжма', 'county': 'городской округ Коряжма', 'state': 'Архангельская область', 'ISO3166-2-lvl4': 'RU-ARK', 'region': 'Северо-Западный федеральный округ', 'postcode': '165650', 'country': 'Россия', 'country_code': 'ru'}, 'boundingbox': ['61.3144585', '61.3147662', '47.1564371', '47.1571804']}\n",
            "\n",
            "Широта и долгота для заданного адреса:\n",
            "Широта: 61.3146124\n",
            "Долгота: 47.156808748527084\n"
          ]
        }
      ]
    }
  ]
}