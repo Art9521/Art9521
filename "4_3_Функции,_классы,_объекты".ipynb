{
  "nbformat": 4,
  "nbformat_minor": 0,
  "metadata": {
    "colab": {
      "provenance": [],
      "include_colab_link": true
    },
    "kernelspec": {
      "name": "python3",
      "display_name": "Python 3"
    },
    "language_info": {
      "name": "python"
    }
  },
  "cells": [
    {
      "cell_type": "markdown",
      "metadata": {
        "id": "view-in-github",
        "colab_type": "text"
      },
      "source": [
        "<a href=\"https://colab.research.google.com/github/Art9521/Art9521/blob/main/%224_3_%D0%A4%D1%83%D0%BD%D0%BA%D1%86%D0%B8%D0%B8%2C_%D0%BA%D0%BB%D0%B0%D1%81%D1%81%D1%8B%2C_%D0%BE%D0%B1%D1%8A%D0%B5%D0%BA%D1%82%D1%8B%22.ipynb\" target=\"_parent\"><img src=\"https://colab.research.google.com/assets/colab-badge.svg\" alt=\"Open In Colab\"/></a>"
      ]
    },
    {
      "cell_type": "markdown",
      "source": [
        "## Задача 1. Случайный номерной знак"
      ],
      "metadata": {
        "id": "Bh5tu_5BH-rG"
      }
    },
    {
      "cell_type": "markdown",
      "source": [
        "**Условие.** Представьте, что в вашем регионе устаревшим является формат номерных автомобильных знаков из трех букв, следом за которыми идут три цифры. Когда все номера такого шаблона закончились, было решено обновить формат, поставив в начало четыре цифры, а за ними три буквы.\n",
        "Напишите функцию, которая будет генерировать случайный номерной знак. При этом номера в старом и новом форматах должны создаваться примерно с одинаковой вероятностью. В основной программе нужно сгенерировать и вывести на экран случайный номерной знак."
      ],
      "metadata": {
        "id": "pLn92q_iLp_k"
      }
    },
    {
      "cell_type": "code",
      "execution_count": null,
      "metadata": {
        "id": "El4o9_QWeq78",
        "colab": {
          "base_uri": "https://localhost:8080/"
        },
        "outputId": "5a7406a1-7fc5-4f08-d102-2c68e8a30773"
      },
      "outputs": [
        {
          "output_type": "stream",
          "name": "stdout",
          "text": [
            "Случайный номерной знак: GHU600\n"
          ]
        }
      ],
      "source": [
        "import random\n",
        "import string\n",
        "\n",
        "def generate_license_plate():\n",
        "    # Случайный выбор формата (старый или новый) с одинаковой вероятностью\n",
        "    if random.choice([True, False]):\n",
        "        # Старый формат: три буквы, затем три цифры\n",
        "        letters = ''.join(random.choices(string.ascii_uppercase, k=3))\n",
        "        numbers = ''.join(random.choices(string.digits, k=3))\n",
        "        return letters + numbers\n",
        "    else:\n",
        "        # Новый формат: четыре цифры, затем три буквы\n",
        "        numbers = ''.join(random.choices(string.digits, k=4))\n",
        "        letters = ''.join(random.choices(string.ascii_uppercase, k=3))\n",
        "        return numbers + letters\n",
        "\n",
        "# Генерация и вывод случайного номерного знака\n",
        "license_plate = generate_license_plate()\n",
        "print(\"Случайный номерной знак:\", license_plate)\n"
      ]
    },
    {
      "cell_type": "markdown",
      "source": [
        "## Задача 2. Шестнадцатеричные и десятичные числа"
      ],
      "metadata": {
        "id": "I4wpSF3IMHdX"
      }
    },
    {
      "cell_type": "markdown",
      "source": [
        "**Условие.** Напишите две функции с  именами hex2int и  int2hex для конвертации\n",
        "значений из шестнадцатеричной системы счисления (0, 1, 2, 3, 4, 5, 6, 7, 8, 9, A, B, C, D, E и F) в десятичную (по основанию 10) и обратно. Функция hex2int должна принимать на вход строку с единственным символом в  шестнадцатеричной системе и  преобразовывать его в  число от нуля до 15 в десятичной системе, тогда как функция int2hex будет выполнять обратное действие – принимать десятичное число из диапазона от 0 до 15 и возвращать шестнадцатеричный эквивалент. Обе функции должны принимать единственный параметр со входным значением и возвращать преобразованное число. Удостоверьтесь, что функция hex2int корректно обрабатывает буквы в верхнем и нижнем регистрах. Если введенное пользователем значение выходит за допустимые границы, вы должны вывести сообщение об ошибке."
      ],
      "metadata": {
        "id": "mYg_KnVwMStB"
      }
    },
    {
      "cell_type": "code",
      "source": [
        "def hex2int(hex_char):\n",
        "    \"\"\"Преобразование шестнадцатеричного символа в десятичное число\"\"\"\n",
        "    hex_char = hex_char.upper()  # Приводим к верхнему регистру для удобства\n",
        "    if hex_char in '0123456789ABCDEF':\n",
        "        return int(hex_char, 16)\n",
        "    else:\n",
        "        raise ValueError(\"Некорректный шестнадцатеричный символ\")\n",
        "\n",
        "def int2hex(decimal_num):\n",
        "    \"\"\"Преобразование десятичного числа в шестнадцатеричный символ\"\"\"\n",
        "    if 0 <= decimal_num <= 15:\n",
        "        return hex(decimal_num)[2:].upper()\n",
        "    else:\n",
        "        raise ValueError(\"Число должно быть в диапазоне от 0 до 15\")\n",
        "\n",
        "\n",
        "# Примеры использования функций\n",
        "\n",
        "try:\n",
        "    hex_char = input(\"Введите шестнадцатеричный символ: \")\n",
        "    decimal_value = hex2int(hex_char)\n",
        "    print(f\"Шестнадцатеричный символ {hex_char} соответствует десятичному числу {decimal_value}\")\n",
        "\n",
        "    decimal_num = int(input(\"Введите десятичное число: \"))\n",
        "    hex_value = int2hex(decimal_num)\n",
        "    print(f\"Десятичное число {decimal_num} соответствует шестнадцатеричному символу {hex_value}\")\n",
        "\n",
        "except ValueError as e:\n",
        "    print(e)\n"
      ],
      "metadata": {
        "id": "j4R38AofMTBX",
        "colab": {
          "base_uri": "https://localhost:8080/"
        },
        "outputId": "45c32dd7-461b-4dc8-9417-30c2b4d49292"
      },
      "execution_count": null,
      "outputs": [
        {
          "output_type": "stream",
          "name": "stdout",
          "text": [
            "Введите шестнадцатеричный символ: a\n",
            "Шестнадцатеричный символ a соответствует десятичному числу 10\n",
            "Введите десятичное число: 10\n",
            "Десятичное число 10 соответствует шестнадцатеричному символу A\n"
          ]
        }
      ]
    },
    {
      "cell_type": "markdown",
      "source": [
        "## Задача 3. Беспилотный автомобиль"
      ],
      "metadata": {
        "id": "RIOKyPjlMZA_"
      }
    },
    {
      "cell_type": "markdown",
      "source": [
        "**Условие.** Это творческая задача. Представьте, что вы проектируете беспилотный автомобиль. Вам необходимо продумать, какими свойствами он обладает и какие действия совершает. Создайте класс беспилотный автомобиль и сохраните его в виде программного модуля. Импортируете класс и инициализируйте новый объект.  "
      ],
      "metadata": {
        "id": "OlVQTKYrMZBA"
      }
    },
    {
      "cell_type": "code",
      "source": [
        "# unmanned_car.py\n",
        "\n",
        "class UnmannedCar:\n",
        "    def __init__(self, brand, model, battery_capacity):\n",
        "        self.brand = brand\n",
        "        self.model = model\n",
        "        self.battery_capacity = battery_capacity\n",
        "        self.current_battery = battery_capacity\n",
        "        self.location = (0, 0)\n",
        "        self.destination = None\n",
        "        self.autopilot_on = False\n",
        "\n",
        "    def start(self):\n",
        "        if self.current_battery > 0:\n",
        "            print(f\"{self.brand} {self.model} starting.\")\n",
        "            self.autopilot_on = True\n",
        "        else:\n",
        "            print(\"Battery is empty, please recharge.\")\n",
        "\n",
        "    def stop(self):\n",
        "        print(f\"{self.brand} {self.model} stopping.\")\n",
        "        self.autopilot_on = False\n",
        "\n",
        "    def drive_to(self, destination):\n",
        "        if self.autopilot_on:\n",
        "            print(f\"Driving to {destination}.\")\n",
        "            self.destination = destination\n",
        "        else:\n",
        "            print(\"Autopilot is not on. Please start the car first.\")\n",
        "\n",
        "    def recharge(self):\n",
        "        print(f\"Recharging {self.brand} {self.model}.\")\n",
        "        self.current_battery = self.battery_capacity\n",
        "\n",
        "    def status(self):\n",
        "        print(f\"Brand: {self.brand}\")\n",
        "        print(f\"Model: {self.model}\")\n",
        "        print(f\"Battery: {self.current_battery}/{self.battery_capacity}\")\n",
        "        print(f\"Location: {self.location}\")\n",
        "        print(f\"Destination: {self.destination}\")\n",
        "        print(f\"Autopilot: {'On' if self.autopilot_on else 'Off'}\")\n",
        "\n",
        "# Example usage\n",
        "if __name__ == \"__main__\":\n",
        "    car = UnmannedCar(\"Лада\", \"Старт\", 100)\n",
        "    car.status()\n",
        "    car.start()\n",
        "    car.drive_to(\"ШушарыАвто\")\n",
        "    car.stop()\n",
        "    car.recharge()\n",
        "    car.status()\n"
      ],
      "metadata": {
        "id": "U2JxR4KOMZBA",
        "colab": {
          "base_uri": "https://localhost:8080/"
        },
        "outputId": "6d670fc6-606b-41ee-9701-91bc270af863"
      },
      "execution_count": null,
      "outputs": [
        {
          "output_type": "stream",
          "name": "stdout",
          "text": [
            "Brand: Лада\n",
            "Model: Старт\n",
            "Battery: 100/100\n",
            "Location: (0, 0)\n",
            "Destination: None\n",
            "Autopilot: Off\n",
            "Лада Старт starting.\n",
            "Driving to ШушарыАвто.\n",
            "Лада Старт stopping.\n",
            "Recharging Лада Старт.\n",
            "Brand: Лада\n",
            "Model: Старт\n",
            "Battery: 100/100\n",
            "Location: (0, 0)\n",
            "Destination: ШушарыАвто\n",
            "Autopilot: Off\n"
          ]
        }
      ]
    }
  ]
}