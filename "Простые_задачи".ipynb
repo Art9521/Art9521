{
  "nbformat": 4,
  "nbformat_minor": 0,
  "metadata": {
    "colab": {
      "provenance": [],
      "include_colab_link": true
    },
    "kernelspec": {
      "name": "python3",
      "display_name": "Python 3"
    },
    "language_info": {
      "name": "python"
    }
  },
  "cells": [
    {
      "cell_type": "markdown",
      "metadata": {
        "id": "view-in-github",
        "colab_type": "text"
      },
      "source": [
        "<a href=\"https://colab.research.google.com/github/Art9521/Art9521/blob/main/%22%D0%9F%D1%80%D0%BE%D1%81%D1%82%D1%8B%D0%B5_%D0%B7%D0%B0%D0%B4%D0%B0%D1%87%D0%B8%22.ipynb\" target=\"_parent\"><img src=\"https://colab.research.google.com/assets/colab-badge.svg\" alt=\"Open In Colab\"/></a>"
      ]
    },
    {
      "cell_type": "markdown",
      "source": [
        "## Задача 1. Приветствие."
      ],
      "metadata": {
        "id": "ZzjUAyrL6jgO"
      }
    },
    {
      "cell_type": "markdown",
      "source": [
        "**Условие.** Напишите программу, запрашивающую у пользователя его имя. В ответ\n",
        "на ввод на экране должно появиться приветствие с обращением по имени,\n",
        "введенному с клавиатуры ранее.\n"
      ],
      "metadata": {
        "id": "M4OAOB6s6mU7"
      }
    },
    {
      "cell_type": "code",
      "source": [
        "name_user = input (\"Введите ваше имя: \") #запрос имени\n",
        "print (\"Я рад приветствовать вас,\" , name_user,\"!\" ) #приветствие по имени"
      ],
      "metadata": {
        "id": "C2W-ZDOF6mzF",
        "colab": {
          "base_uri": "https://localhost:8080/"
        },
        "outputId": "06fd1933-f597-4436-b976-92961d8bed79"
      },
      "execution_count": 2,
      "outputs": [
        {
          "output_type": "stream",
          "name": "stdout",
          "text": [
            "Введите ваше имя: Иванов Иван Иванович\n",
            "Я рад приветствовать вас, Иванов Иван Иванович !\n"
          ]
        }
      ]
    },
    {
      "cell_type": "markdown",
      "source": [
        "## Задача 2. Сувениры и безделушки."
      ],
      "metadata": {
        "id": "UG8mwj2-eALV"
      }
    },
    {
      "cell_type": "markdown",
      "source": [
        "**Условие.** Интернет-магазин занимается продажей различных сувениров и безделушек. Каждый сувенир весит 75 г, а безделушка – 112 г. Напишите программу, запрашивающую у пользователя количество тех и других покупок,\n",
        "после чего выведите на экран общий вес посылки.\n"
      ],
      "metadata": {
        "id": "ay2EfeBreALW"
      }
    },
    {
      "cell_type": "code",
      "source": [
        "#задаем константы для сувениров и бездилушек\n",
        "bezdelushka = 112\n",
        "souvenir = 75\n",
        "print(\"Информация:\", \"безделушка весит =\",bezdelushka,\"г.\",\";\",\"сувенир весит =\", souvenir,\"г.\" )\n",
        "\n",
        "#запрос у пользователя количество безделушек и сувениров\n",
        "count_bezdelushka = int(input(\"Введите количество безделушек: \"))\n",
        "count_souvenir = int(input(\"Введите количество сувениров: \"))\n",
        "\n",
        "#сумма покупки\n",
        "sum = count_bezdelushka * bezdelushka + count_souvenir * souvenir\n",
        "print(\"Вес вашей посылки:\",sum,\"г.\")"
      ],
      "metadata": {
        "id": "WY-KRVHyeALX",
        "colab": {
          "base_uri": "https://localhost:8080/"
        },
        "collapsed": true,
        "outputId": "03403179-2778-4063-d205-8fc9da49f870"
      },
      "execution_count": 6,
      "outputs": [
        {
          "output_type": "stream",
          "name": "stdout",
          "text": [
            "Информация: безделушка весит = 112 г. ; сувенир весит = 75 г.\n",
            "Введите количество безделушек: 5\n",
            "Введите количество сувениров: 10\n",
            "Вес вашей посылки: 1310 г.\n"
          ]
        }
      ]
    },
    {
      "cell_type": "markdown",
      "source": [
        "## Задача 3. Сложные проценты"
      ],
      "metadata": {
        "id": "v2IXqDTVeBfM"
      }
    },
    {
      "cell_type": "markdown",
      "source": [
        "**Условие.** Представьте, что вы открыли в банке сберегательный счет под 4 % годовых. Проценты банк рассчитывает в конце года и добавляет к сумме счета.\n",
        "Напишите программу, которая запрашивает у пользователя сумму первоначального депозита, после чего рассчитывает и выводит на экран сумму\n",
        "на счету в конце первого, второго и третьего годов. Все суммы должны\n",
        "быть округлены до двух знаков после запятой.\n",
        "\n"
      ],
      "metadata": {
        "id": "rGE3sh2ueBfN"
      }
    },
    {
      "cell_type": "code",
      "source": [
        "deposit = int(input(\"Введите сумму вашего депозита: \"))\n",
        "\n",
        "year_1 = (deposit / 100 * 4) + deposit\n",
        "year_2 = ((deposit + year_1) / 100 * 4) + deposit\n",
        "year_3 = ((deposit + year_2 + year_1) / 100 * 4) + deposit\n",
        "\n",
        "print( \"Cумма депозит + % за 1 год = \", round(year_1, 2),\";\", \"Cумма депозит + % за 2 год = \",round(year_2, 2),\";\",\"Cумма депозит + % за 3 год = \",round(year_3, 2) )"
      ],
      "metadata": {
        "id": "0DYIIu98eBfN",
        "colab": {
          "base_uri": "https://localhost:8080/"
        },
        "outputId": "cbec1939-d86b-42d8-e228-f28a153237cd"
      },
      "execution_count": 20,
      "outputs": [
        {
          "output_type": "stream",
          "name": "stdout",
          "text": [
            "Введите сумму вашего депозита: 100\n",
            "Cумма депозит + % за 1 год =  104.0 ; Cумма депозит + % за 2 год =  108.16 ; Cумма депозит + % за 3 год =  112.49\n"
          ]
        }
      ]
    },
    {
      "cell_type": "markdown",
      "source": [
        "## Задача 4. Арифметика"
      ],
      "metadata": {
        "id": "d9y6YzAvuW4l"
      }
    },
    {
      "cell_type": "markdown",
      "source": [
        "**Условие.** Создайте программу, которая запрашивает у пользователя два целых числа a и b, после чего выводит на экран результаты следующих математических операций:\n",
        "* сумма a и b;\n",
        "* разница между a и b;\n",
        "* произведение a и b;\n",
        "* частное от деления a на b;\n",
        "* остаток от деления a на b;\n",
        "* десятичный логарифм числа a;\n",
        "* результат возведения числа a в степень b."
      ],
      "metadata": {
        "id": "ZeZZ2IrUuW4m"
      }
    },
    {
      "cell_type": "code",
      "source": [
        "import math\n",
        "\n",
        "a = int(input (\"Введите число а: \"))\n",
        "b = int(input (\"Введите число b: \"))\n",
        "\n",
        "sum = a + b\n",
        "Subtraction = a - b\n",
        "multiply = a * b\n",
        "Division = a / b\n",
        "Division_1 = a % b\n",
        "log = math.log10(a)\n",
        "result = a**b\n",
        "\n",
        "#  делаем словарь ключ - значение\n",
        "data = {\"сумма a и b\": sum,\n",
        "\"разница между a и b\": Subtraction,\n",
        "\"произведение a и b\": multiply,\n",
        "\"частное от деления a на b\": Division,\n",
        "\"остаток от деления a на b\": Division_1,\n",
        "\"десятичный логарифм числа a\": log,\n",
        "\"результат возведения числа a в степень b\": result}\n",
        "\n",
        "#метод items() словаря для получения пар (ключ, значение) и выводит каждую пару в формате \"Название = значение\"\n",
        "for name, value in data.items():\n",
        "    print(f\"{name} = {value}\")\n"
      ],
      "metadata": {
        "id": "gCbjinmpuW4m",
        "colab": {
          "base_uri": "https://localhost:8080/"
        },
        "outputId": "579b3cb7-cb6d-42b4-f00e-f36fbc3c4487"
      },
      "execution_count": 29,
      "outputs": [
        {
          "output_type": "stream",
          "name": "stdout",
          "text": [
            "Введите число а: 1\n",
            "Введите число b: 2\n",
            "сумма a и b = 3\n",
            "разница между a и b = -1\n",
            "произведение a и b = 2\n",
            "частное от деления a на b = 0.5\n",
            "остаток от деления a на b = 1\n",
            "десятичный логарифм числа a = 0.0\n",
            "результат возведения числа a в степень b = 1\n"
          ]
        }
      ]
    },
    {
      "cell_type": "markdown",
      "source": [
        "## Задача 5. Размен"
      ],
      "metadata": {
        "id": "EcSSCSnpeBto"
      }
    },
    {
      "cell_type": "markdown",
      "source": [
        "**Условие.** Представьте, что вы пишете программное обеспечение для автоматической кассы в  магазине самообслуживания. Одной из функций, заложенных в кассу, должен быть расчет сдачи в случае оплаты покупателем наличными.\n",
        "Напишите программу, которая будет запрашивать у пользователя сумму сдачи в копейках. После этого она должна рассчитать и вывести на экран, сколько и каких монет потребуется для выдачи указанной суммы, при условии что должно быть задействовано минимально возможное количество монет. Допустим, у нас есть в распоряжении монеты достоинством в 1, 5, 10, 50 копеек, а также в 1, 2 и 5 рублей.\n"
      ],
      "metadata": {
        "id": "VfX5FQQreBtp"
      }
    },
    {
      "cell_type": "code",
      "source": [
        "def calculate_change(change_amount):\n",
        "    # Номиналы монет в копейках\n",
        "    coins = [500, 200, 100, 50, 10, 5, 1]\n",
        "    coin_names = {\n",
        "        500: \"5 рублей\",\n",
        "        200: \"2 рубля\",\n",
        "        100: \"1 рубль\",\n",
        "        50: \"50 копеек\",\n",
        "        10: \"10 копеек\",\n",
        "        5: \"5 копеек\",\n",
        "        1: \"1 копейка\"\n",
        "    }\n",
        "\n",
        "    change = {}\n",
        "\n",
        "    for coin in coins:\n",
        "        if change_amount >= coin:\n",
        "            coin_count = change_amount // coin\n",
        "            change_amount -= coin_count * coin\n",
        "            change[coin_names[coin]] = coin_count\n",
        "\n",
        "    return change\n",
        "\n",
        "def main():\n",
        "    try:\n",
        "        # Запрашиваем у пользователя сумму сдачи в копейках\n",
        "        change_amount = int(input(\"Введите сумму сдачи в копейках: \"))\n",
        "\n",
        "        # Вычисляем количество монет каждого номинала\n",
        "        change = calculate_change(change_amount)\n",
        "\n",
        "        # Выводим результат\n",
        "        print(\"Сдача:\")\n",
        "        for coin, count in change.items():\n",
        "            print(f\"{coin}: {count} шт.\")\n",
        "    except ValueError:\n",
        "        print(\"Пожалуйста, введите корректное числовое значение.\")\n",
        "\n",
        "if __name__ == \"__main__\":\n",
        "    main()\n",
        "\n"
      ],
      "metadata": {
        "id": "4ecMH2bjeBtp",
        "colab": {
          "base_uri": "https://localhost:8080/"
        },
        "outputId": "5c6956b9-91d6-43ea-d4dc-a79cb5cf6c6b"
      },
      "execution_count": 31,
      "outputs": [
        {
          "output_type": "stream",
          "name": "stdout",
          "text": [
            "Введите сумму сдачи в копейках: 19653\n",
            "Сдача:\n",
            "5 рублей: 39 шт.\n",
            "1 рубль: 1 шт.\n",
            "50 копеек: 1 шт.\n",
            "1 копейка: 3 шт.\n"
          ]
        }
      ]
    },
    {
      "cell_type": "markdown",
      "source": [
        "## Задача 6. Вчерашний хлеб"
      ],
      "metadata": {
        "id": "26soP3cfeB8i"
      }
    },
    {
      "cell_type": "markdown",
      "source": [
        "**Условие.** Пекарня продает хлеб по 49 рублей за буханку. Скидка на вчерашний хлеб составляет 60 %. Напишите программу, которая будет запрашивать у пользователя количество приобретенных вчерашних буханок хлеба. В вывод на экран должны быть включены обычная цена за буханку, цена со скидкой и общая стоимость приобретенного хлеба. Все значения должны быть выведены на отдельных строках с соответствующими описаниями. Используйте для вывода формат с двумя знаками после запятой и 5-ю знакоместами.\n"
      ],
      "metadata": {
        "id": "t-cYNmWQeB8i"
      }
    },
    {
      "cell_type": "code",
      "source": [
        "def main():\n",
        "    # Цена за буханку хлеба\n",
        "    original_price = 49.00\n",
        "    discount_rate = 0.60\n",
        "\n",
        "    # Запрашиваем у пользователя количество приобретенных вчерашних буханок\n",
        "    try:\n",
        "        quantity = int(input(\"Введите количество приобретенных вчерашних буханок: \"))\n",
        "\n",
        "        # Рассчитываем цену со скидкой и общую стоимость\n",
        "        discount_price = original_price * (1 - discount_rate)\n",
        "        total_cost = quantity * discount_price\n",
        "\n",
        "        # Выводим результаты\n",
        "        print(f\"Обычная цена за буханку: {original_price:5.2f} руб.\")\n",
        "        print(f\"Цена со скидкой:        {discount_price:5.2f} руб.\")\n",
        "        print(f\"Общая стоимость:        {total_cost:5.2f} руб.\")\n",
        "    except ValueError:\n",
        "        print(\"Пожалуйста, введите корректное числовое значение.\")\n",
        "\n",
        "if __name__ == \"__main__\":\n",
        "    main()\n"
      ],
      "metadata": {
        "id": "R2-WoQoveB8j",
        "colab": {
          "base_uri": "https://localhost:8080/"
        },
        "outputId": "1194f9a1-8146-4374-e3a0-2303e791f068"
      },
      "execution_count": 32,
      "outputs": [
        {
          "output_type": "stream",
          "name": "stdout",
          "text": [
            "Введите количество приобретенных вчерашних буханок: 29\n",
            "Обычная цена за буханку: 49.00 руб.\n",
            "Цена со скидкой:        19.60 руб.\n",
            "Общая стоимость:        568.40 руб.\n"
          ]
        }
      ]
    }
  ]
}