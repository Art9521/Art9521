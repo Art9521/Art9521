{
  "nbformat": 4,
  "nbformat_minor": 0,
  "metadata": {
    "colab": {
      "provenance": [],
      "include_colab_link": true
    },
    "kernelspec": {
      "name": "python3",
      "display_name": "Python 3"
    },
    "language_info": {
      "name": "python"
    }
  },
  "cells": [
    {
      "cell_type": "markdown",
      "metadata": {
        "id": "view-in-github",
        "colab_type": "text"
      },
      "source": [
        "<a href=\"https://colab.research.google.com/github/Art9521/Art9521/blob/main/%225_3_Neuron%22.ipynb\" target=\"_parent\"><img src=\"https://colab.research.google.com/assets/colab-badge.svg\" alt=\"Open In Colab\"/></a>"
      ]
    },
    {
      "cell_type": "markdown",
      "source": [
        "## Задача 1. Класс Neuron"
      ],
      "metadata": {
        "id": "B5IghQAm20sG"
      }
    },
    {
      "cell_type": "markdown",
      "source": [
        "**Условие** Используя примеры из теоретической части 5.1 и 5.2, составьте класс Neuron модели нейрона, принимающего на вход от одного до 10 входных параметров. Запрещается пользоваться библиотекой numpy. На вход подается список. Матричное умножение реализуется с помощью циклов самостоятельно. Класс содержит методы для вычисления взвешенной суммы, а также содержит функции активации из урока."
      ],
      "metadata": {
        "id": "BxRUPNKFrxow"
      }
    },
    {
      "cell_type": "markdown",
      "source": [
        "Создадим класс Neuron, который будет моделировать нейрон с возможностью принимать от одного до десяти входных параметров. Класс будет включать методы для вычисления взвешенной суммы, а также функции активации (например, сигмоидную функцию и ReLU)."
      ],
      "metadata": {
        "id": "lPOtsZOFoKNS"
      }
    },
    {
      "cell_type": "code",
      "execution_count": 1,
      "metadata": {
        "id": "El4o9_QWeq78",
        "colab": {
          "base_uri": "https://localhost:8080/"
        },
        "outputId": "135fda42-0a4a-4f15-c012-c53aa518ca3a"
      },
      "outputs": [
        {
          "output_type": "stream",
          "name": "stdout",
          "text": [
            "Weighted sum: -0.4746745326526547\n",
            "Sigmoid activation: 0.38351044286517205\n",
            "ReLU activation: 0\n"
          ]
        }
      ],
      "source": [
        "import random\n",
        "import math\n",
        "\n",
        "class Neuron:\n",
        "    def __init__(self, input_size):\n",
        "        if input_size < 1 or input_size > 10:\n",
        "            raise ValueError(\"Input size must be between 1 and 10\")\n",
        "\n",
        "        self.input_size = input_size\n",
        "        self.weights = [random.uniform(-1, 1) for _ in range(input_size)]\n",
        "        self.bias = random.uniform(-1, 1)\n",
        "\n",
        "    def weighted_sum(self, inputs):\n",
        "        if len(inputs) != self.input_size:\n",
        "            raise ValueError(f\"Expected {self.input_size} inputs, got {len(inputs)}\")\n",
        "\n",
        "        weighted_sum = 0\n",
        "        for w, x in zip(self.weights, inputs):\n",
        "            weighted_sum += w * x\n",
        "        weighted_sum += self.bias\n",
        "        return weighted_sum\n",
        "\n",
        "    def sigmoid(self, x):\n",
        "        return 1 / (1 + math.exp(-x))\n",
        "\n",
        "    def relu(self, x):\n",
        "        return max(0, x)\n",
        "\n",
        "    def activate(self, inputs, activation_function='sigmoid'):\n",
        "        sum_value = self.weighted_sum(inputs)\n",
        "\n",
        "        if activation_function == 'sigmoid':\n",
        "            return self.sigmoid(sum_value)\n",
        "        elif activation_function == 'relu':\n",
        "            return self.relu(sum_value)\n",
        "        else:\n",
        "            raise ValueError(\"Unsupported activation function. Use 'sigmoid' or 'relu'.\")\n",
        "\n",
        "# Пример использования\n",
        "if __name__ == \"__main__\":\n",
        "    # Создаем нейрон с 5 входами\n",
        "    neuron = Neuron(5)\n",
        "\n",
        "    # Входные данные\n",
        "    inputs = [0.5, -0.2, 0.1, 0.4, 0.7]\n",
        "\n",
        "    # Вычисление взвешенной суммы\n",
        "    weighted_sum_result = neuron.weighted_sum(inputs)\n",
        "    print(f\"Weighted sum: {weighted_sum_result}\")\n",
        "\n",
        "    # Вычисление активации с сигмоидной функцией\n",
        "    sigmoid_output = neuron.activate(inputs, activation_function='sigmoid')\n",
        "    print(f\"Sigmoid activation: {sigmoid_output}\")\n",
        "\n",
        "    # Вычисление активации с ReLU функцией\n",
        "    relu_output = neuron.activate(inputs, activation_function='relu')\n",
        "    print(f\"ReLU activation: {relu_output}\")\n"
      ]
    },
    {
      "cell_type": "markdown",
      "source": [
        "Инициализация (__init__):\n",
        "\n",
        "*   input_size определяет количество входных параметров, которое должен принимать нейрон (от 1 до 10).\n",
        "*   weights инициализируются случайными значениями в диапазоне от -1 до 1 для каждого входного параметра.\n",
        "*   bias также инициализируется случайным значением в диапазоне от -1 до 1.\n",
        "Взвешенная сумма (weighted_sum)\n",
        "\n",
        "Метод принимает список входных значений, умножает каждое на соответствующий вес и суммирует результаты, добавляя смещение (bias).\n",
        "Функции активации (sigmoid и relu)\n",
        "\n",
        "*   sigmoid вычисляет сигмоидную функцию для заданного значения.\n",
        "relu вычисляет функцию активации ReLU для заданного значения.\n",
        "Активация (activate)\n",
        "\n",
        "Метод принимает список входных значений и функцию активации (по умолчанию 'sigmoid').\n",
        "Вычисляет взвешенную сумму и применяет указанную функцию активации.\n",
        "Пример использования:\n",
        "Создаем нейрон с 5 входами.\n",
        "* Вычисляем взвешенную сумму для заданного списка входных данных.\n",
        "* Вычисляем активацию с сигмоидной функцией.\n",
        "* Вычисляем активацию с ReLU функцией."
      ],
      "metadata": {
        "id": "uplBA1ZmoTLP"
      }
    },
    {
      "cell_type": "markdown",
      "source": [
        "## Задача 2. Класс Neuron (продолжение)"
      ],
      "metadata": {
        "id": "BXPoR8av3AUx"
      }
    },
    {
      "cell_type": "markdown",
      "source": [
        "**Условие.** Используя класс Neuron из первой задачи, придумать свой пример на принятие решения (по аналогии с задачей \"о рыбаке и рыбке\"), не менее 4 входных параметров, веса установить произвольно из логики задачи, произвести расчёт функций активаций, определённых в классе первой задачи."
      ],
      "metadata": {
        "id": "KLC5Gv3L3CP_"
      }
    },
    {
      "cell_type": "markdown",
      "source": [
        "Cоздадим пример с использованием класса Neuron, чтобы принять решение на основе нескольких входных параметров. Рассмотрим задачу о системе принятия решения для умного дома. Представим, что нейрон принимает решение о включении кондиционера на основе следующих параметров:\n",
        "*   Температура в комнате (в градусах Цельсия).\n",
        "*   Влажность (в процентах).\n",
        "*   Время суток (утро = 0, день = 1, вечер = 2, ночь = 3).\n",
        "*   Наличие людей в комнате (нет = 0, есть = 1).\n",
        "\n",
        "Предположим, что для включения кондиционера важны температура, влажность и наличие людей в комнате, а время суток влияет меньше. Установим произвольные веса для каждого параметра."
      ],
      "metadata": {
        "id": "ciXGQamtmTuK"
      }
    },
    {
      "cell_type": "code",
      "source": [
        "import random\n",
        "import math\n",
        "\n",
        "class Neuron:\n",
        "    def __init__(self, input_size, weights=None, bias=None):\n",
        "        if input_size < 1 or input_size > 10:\n",
        "            raise ValueError(\"Input size must be between 1 and 10\")\n",
        "\n",
        "        self.input_size = input_size\n",
        "        if weights:\n",
        "            if len(weights) != input_size:\n",
        "                raise ValueError(\"Weights array length must match input size\")\n",
        "            self.weights = weights\n",
        "        else:\n",
        "            self.weights = [random.uniform(-1, 1) for _ in range(input_size)]\n",
        "\n",
        "        if bias is not None:\n",
        "            self.bias = bias\n",
        "        else:\n",
        "            self.bias = random.uniform(-1, 1)\n",
        "\n",
        "    def weighted_sum(self, inputs):\n",
        "        if len(inputs) != self.input_size:\n",
        "            raise ValueError(f\"Expected {self.input_size} inputs, got {len(inputs)}\")\n",
        "\n",
        "        weighted_sum = 0\n",
        "        for w, x in zip(self.weights, inputs):\n",
        "            weighted_sum += w * x\n",
        "        weighted_sum += self.bias\n",
        "        return weighted_sum\n",
        "\n",
        "    def sigmoid(self, x):\n",
        "        return 1 / (1 + math.exp(-x))\n",
        "\n",
        "    def relu(self, x):\n",
        "        return max(0, x)\n",
        "\n",
        "    def activate(self, inputs, activation_function='sigmoid'):\n",
        "        sum_value = self.weighted_sum(inputs)\n",
        "\n",
        "        if activation_function == 'sigmoid':\n",
        "            return self.sigmoid(sum_value)\n",
        "        elif activation_function == 'relu':\n",
        "            return self.relu(sum_value)\n",
        "        else:\n",
        "            raise ValueError(\"Unsupported activation function. Use 'sigmoid' or 'relu'.\")\n",
        "\n",
        "# Пример использования\n",
        "if __name__ == \"__main__\":\n",
        "    # Параметры задачи умного дома\n",
        "    inputs = [28, 65, 1, 1]  # Температура, влажность, время суток, наличие людей\n",
        "\n",
        "    # Установим произвольные веса для нейрона\n",
        "    weights = [0.6, 0.3, 0.1, 0.7]\n",
        "    bias = -0.5\n",
        "\n",
        "    # Создаем нейрон с 4 входами\n",
        "    neuron = Neuron(4, weights, bias)\n",
        "\n",
        "    # Вычисление взвешенной суммы\n",
        "    weighted_sum_result = neuron.weighted_sum(inputs)\n",
        "    print(f\"Weighted sum: {weighted_sum_result}\")\n",
        "\n",
        "    # Вычисление активации с сигмоидной функцией\n",
        "    sigmoid_output = neuron.activate(inputs, activation_function='sigmoid')\n",
        "    print(f\"Sigmoid activation: {sigmoid_output}\")\n",
        "\n",
        "    # Вычисление активации с ReLU функцией\n",
        "    relu_output = neuron.activate(inputs, activation_function='relu')\n",
        "    print(f\"ReLU activation: {relu_output}\")\n"
      ],
      "metadata": {
        "id": "yr-i4FFg3DAf"
      },
      "execution_count": null,
      "outputs": []
    },
    {
      "cell_type": "markdown",
      "source": [
        "Класс Neuron:\n",
        "\n",
        "Добавлена возможность задавать веса и смещение (bias) при инициализации. Если они не заданы, используются случайные значения.\n",
        "\n",
        "Параметры задачи: температура, влажность, время суток, наличие людей.\n",
        "Заданы произвольные веса.\n",
        "\n",
        "Задан смещение (bias): -0.5.\n",
        "Создается объект neuron с 4 входами, заданными весами и смещением.\n",
        "Вычисляется взвешенная сумма и результаты активации (сигмоидной и ReLU функцией).\n",
        "\n",
        "Результат:\n",
        "Программа вычисляет взвешенную сумму, применяет функции активации и выводит результаты. Эти результаты можно использовать для принятия решения о включении кондиционера в умном доме. Например, если выходное значение сигмоидной функции больше определенного порога (например, 0.5), кондиционер включается."
      ],
      "metadata": {
        "id": "l4gN6cisnWYt"
      }
    }
  ]
}